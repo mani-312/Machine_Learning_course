{
 "cells": [
  {
   "cell_type": "code",
   "execution_count": 1,
   "id": "fa4f4ae7",
   "metadata": {},
   "outputs": [],
   "source": [
    "import numpy as np\n",
    "import pandas as pd\n",
    "from typing import Tuple\n",
    "from matplotlib import pyplot as plt"
   ]
  },
  {
   "cell_type": "code",
   "execution_count": 2,
   "id": "0b248734",
   "metadata": {},
   "outputs": [],
   "source": [
    "train_df = pd.read_csv('data/mnist_train.csv')"
   ]
  },
  {
   "cell_type": "code",
   "execution_count": 3,
   "id": "123161b8",
   "metadata": {},
   "outputs": [
    {
     "data": {
      "text/html": [
       "<div>\n",
       "<style scoped>\n",
       "    .dataframe tbody tr th:only-of-type {\n",
       "        vertical-align: middle;\n",
       "    }\n",
       "\n",
       "    .dataframe tbody tr th {\n",
       "        vertical-align: top;\n",
       "    }\n",
       "\n",
       "    .dataframe thead th {\n",
       "        text-align: right;\n",
       "    }\n",
       "</style>\n",
       "<table border=\"1\" class=\"dataframe\">\n",
       "  <thead>\n",
       "    <tr style=\"text-align: right;\">\n",
       "      <th></th>\n",
       "      <th>label</th>\n",
       "      <th>1x1</th>\n",
       "      <th>1x2</th>\n",
       "      <th>1x3</th>\n",
       "      <th>1x4</th>\n",
       "      <th>1x5</th>\n",
       "      <th>1x6</th>\n",
       "      <th>1x7</th>\n",
       "      <th>1x8</th>\n",
       "      <th>1x9</th>\n",
       "      <th>...</th>\n",
       "      <th>28x19</th>\n",
       "      <th>28x20</th>\n",
       "      <th>28x21</th>\n",
       "      <th>28x22</th>\n",
       "      <th>28x23</th>\n",
       "      <th>28x24</th>\n",
       "      <th>28x25</th>\n",
       "      <th>28x26</th>\n",
       "      <th>28x27</th>\n",
       "      <th>28x28</th>\n",
       "    </tr>\n",
       "  </thead>\n",
       "  <tbody>\n",
       "    <tr>\n",
       "      <th>0</th>\n",
       "      <td>5</td>\n",
       "      <td>0</td>\n",
       "      <td>0</td>\n",
       "      <td>0</td>\n",
       "      <td>0</td>\n",
       "      <td>0</td>\n",
       "      <td>0</td>\n",
       "      <td>0</td>\n",
       "      <td>0</td>\n",
       "      <td>0</td>\n",
       "      <td>...</td>\n",
       "      <td>0</td>\n",
       "      <td>0</td>\n",
       "      <td>0</td>\n",
       "      <td>0</td>\n",
       "      <td>0</td>\n",
       "      <td>0</td>\n",
       "      <td>0</td>\n",
       "      <td>0</td>\n",
       "      <td>0</td>\n",
       "      <td>0</td>\n",
       "    </tr>\n",
       "    <tr>\n",
       "      <th>1</th>\n",
       "      <td>0</td>\n",
       "      <td>0</td>\n",
       "      <td>0</td>\n",
       "      <td>0</td>\n",
       "      <td>0</td>\n",
       "      <td>0</td>\n",
       "      <td>0</td>\n",
       "      <td>0</td>\n",
       "      <td>0</td>\n",
       "      <td>0</td>\n",
       "      <td>...</td>\n",
       "      <td>0</td>\n",
       "      <td>0</td>\n",
       "      <td>0</td>\n",
       "      <td>0</td>\n",
       "      <td>0</td>\n",
       "      <td>0</td>\n",
       "      <td>0</td>\n",
       "      <td>0</td>\n",
       "      <td>0</td>\n",
       "      <td>0</td>\n",
       "    </tr>\n",
       "    <tr>\n",
       "      <th>2</th>\n",
       "      <td>4</td>\n",
       "      <td>0</td>\n",
       "      <td>0</td>\n",
       "      <td>0</td>\n",
       "      <td>0</td>\n",
       "      <td>0</td>\n",
       "      <td>0</td>\n",
       "      <td>0</td>\n",
       "      <td>0</td>\n",
       "      <td>0</td>\n",
       "      <td>...</td>\n",
       "      <td>0</td>\n",
       "      <td>0</td>\n",
       "      <td>0</td>\n",
       "      <td>0</td>\n",
       "      <td>0</td>\n",
       "      <td>0</td>\n",
       "      <td>0</td>\n",
       "      <td>0</td>\n",
       "      <td>0</td>\n",
       "      <td>0</td>\n",
       "    </tr>\n",
       "    <tr>\n",
       "      <th>3</th>\n",
       "      <td>1</td>\n",
       "      <td>0</td>\n",
       "      <td>0</td>\n",
       "      <td>0</td>\n",
       "      <td>0</td>\n",
       "      <td>0</td>\n",
       "      <td>0</td>\n",
       "      <td>0</td>\n",
       "      <td>0</td>\n",
       "      <td>0</td>\n",
       "      <td>...</td>\n",
       "      <td>0</td>\n",
       "      <td>0</td>\n",
       "      <td>0</td>\n",
       "      <td>0</td>\n",
       "      <td>0</td>\n",
       "      <td>0</td>\n",
       "      <td>0</td>\n",
       "      <td>0</td>\n",
       "      <td>0</td>\n",
       "      <td>0</td>\n",
       "    </tr>\n",
       "    <tr>\n",
       "      <th>4</th>\n",
       "      <td>9</td>\n",
       "      <td>0</td>\n",
       "      <td>0</td>\n",
       "      <td>0</td>\n",
       "      <td>0</td>\n",
       "      <td>0</td>\n",
       "      <td>0</td>\n",
       "      <td>0</td>\n",
       "      <td>0</td>\n",
       "      <td>0</td>\n",
       "      <td>...</td>\n",
       "      <td>0</td>\n",
       "      <td>0</td>\n",
       "      <td>0</td>\n",
       "      <td>0</td>\n",
       "      <td>0</td>\n",
       "      <td>0</td>\n",
       "      <td>0</td>\n",
       "      <td>0</td>\n",
       "      <td>0</td>\n",
       "      <td>0</td>\n",
       "    </tr>\n",
       "  </tbody>\n",
       "</table>\n",
       "<p>5 rows × 785 columns</p>\n",
       "</div>"
      ],
      "text/plain": [
       "   label  1x1  1x2  1x3  1x4  1x5  1x6  1x7  1x8  1x9  ...  28x19  28x20  \\\n",
       "0      5    0    0    0    0    0    0    0    0    0  ...      0      0   \n",
       "1      0    0    0    0    0    0    0    0    0    0  ...      0      0   \n",
       "2      4    0    0    0    0    0    0    0    0    0  ...      0      0   \n",
       "3      1    0    0    0    0    0    0    0    0    0  ...      0      0   \n",
       "4      9    0    0    0    0    0    0    0    0    0  ...      0      0   \n",
       "\n",
       "   28x21  28x22  28x23  28x24  28x25  28x26  28x27  28x28  \n",
       "0      0      0      0      0      0      0      0      0  \n",
       "1      0      0      0      0      0      0      0      0  \n",
       "2      0      0      0      0      0      0      0      0  \n",
       "3      0      0      0      0      0      0      0      0  \n",
       "4      0      0      0      0      0      0      0      0  \n",
       "\n",
       "[5 rows x 785 columns]"
      ]
     },
     "execution_count": 3,
     "metadata": {},
     "output_type": "execute_result"
    }
   ],
   "source": [
    "train_df.head()"
   ]
  },
  {
   "cell_type": "code",
   "execution_count": 3,
   "id": "724de749",
   "metadata": {},
   "outputs": [
    {
     "data": {
      "text/plain": [
       "(60000, 785)"
      ]
     },
     "execution_count": 3,
     "metadata": {},
     "output_type": "execute_result"
    }
   ],
   "source": [
    "train_df.shape"
   ]
  },
  {
   "cell_type": "code",
   "execution_count": 5,
   "id": "327027ca",
   "metadata": {},
   "outputs": [
    {
     "data": {
      "image/png": "[encoded data removed]",
      "text/plain": [
       "<Figure size 432x288 with 1 Axes>"
      ]
     },
     "metadata": {
      "needs_background": "light"
     },
     "output_type": "display_data"
    }
   ],
   "source": [
    "import numpy as np\n",
    "import matplotlib.pyplot as plt\n",
    "\n",
    "\n",
    "def dummy_fn(x):\n",
    "    \"\"\"\n",
    "        dummy_fn(ndarray) -> {0, 1}\n",
    "        \n",
    "        Simple function that assigns class to x as: y = sign(sum(x))\n",
    "        \n",
    "        Returns: y\n",
    "            y: Class label {+1, -1}\n",
    "    \"\"\"\n",
    "    if np.sum(x) == 0:\n",
    "        return -1\n",
    "    return np.sign(np.sum(x))\n",
    "    \n",
    "def complex_fn(x):\n",
    "    \"\"\"\n",
    "        complex_fn(ndarray) -> {0, 1}\n",
    "        \n",
    "        Assigns class to x as 1{||x|| < 3}\n",
    "\n",
    "        Returns: y\n",
    "            y: Class label {+1, -1}\n",
    "    \"\"\"\n",
    "    # Initialze the output\n",
    "    y = 0\n",
    "    \n",
    "    y = 2 * (np.linalg.norm(x) < 3) - 1\n",
    "    \n",
    "    return y\n",
    "\n",
    "def data_gen(n=100, f=dummy_fn, lims=[5, 5]):\n",
    "    \"\"\"\n",
    "        data_gen(int, function, list) -> (ndarray, ndarray)\n",
    "        \n",
    "        Generates synthetic data by using the classification rule specified by\n",
    "        the function f. \n",
    "        \n",
    "        n: Number of data points to generate\n",
    "        f: Function that takes a d-dimensional vector x as input and produces a\n",
    "           the class label for that point {+1, -1}\n",
    "        lims: lims[i] is used to get upper and lower limit on domain for the ith\n",
    "              dimension. The ith dimension of x will be uniformly sampled from \n",
    "              the interval [-lim[i], lim[i]] for all examples\n",
    "        Length of dims (=d) should be taken as the dimension of input vectors.              \n",
    "    \n",
    "        Returns: (X, Y)\n",
    "            X: (n, d) Feature matrix\n",
    "            Y: (n, 1) Label matrix    \n",
    "    \"\"\"\n",
    "    # Some useful variables\n",
    "    d = len(lims)\n",
    "    \n",
    "    # Intialize the data\n",
    "    X = np.zeros((n, d))\n",
    "    Y = np.zeros((n, 1))\n",
    "\n",
    "    lims = np.asarray(lims)\n",
    "    for i in range(n):\n",
    "        x = 2 * lims * np.random.random((d,)) - lims\n",
    "        y = f(x)\n",
    "        X[i, :] = x\n",
    "        Y[i, 0] = y\n",
    "    \n",
    "    return (X, Y)\n",
    "    \n",
    "    \n",
    "    \n",
    "if __name__ == '__main__':\n",
    "    X, Y = data_gen(n=1000, f=dummy_fn)\n",
    "    \n",
    "    # Plot the generated data using matplotlib\n",
    "    colors = ['r.', 'b.']\n",
    "    for i in range(1000):\n",
    "        plt.plot(X[i, 0], X[i, 1], colors[int((Y[i, 0] + 1) / 2)])\n",
    "    plt.show()\n"
   ]
  },
  {
   "cell_type": "code",
   "execution_count": 6,
   "id": "8e123f04",
   "metadata": {},
   "outputs": [
    {
     "data": {
      "text/plain": [
       "(1000, 2)"
      ]
     },
     "execution_count": 6,
     "metadata": {},
     "output_type": "execute_result"
    }
   ],
   "source": [
    "X.shape"
   ]
  },
  {
   "cell_type": "code",
   "execution_count": 7,
   "id": "2830ae32",
   "metadata": {},
   "outputs": [
    {
     "data": {
      "text/plain": [
       "(1000, 1)"
      ]
     },
     "execution_count": 7,
     "metadata": {},
     "output_type": "execute_result"
    }
   ],
   "source": [
    "Y.shape"
   ]
  },
  {
   "cell_type": "code",
   "execution_count": 8,
   "id": "319190bb",
   "metadata": {},
   "outputs": [],
   "source": [
    "from tqdm import tqdm"
   ]
  },
  {
   "cell_type": "code",
   "execution_count": 9,
   "id": "325f46e3",
   "metadata": {},
   "outputs": [],
   "source": [
    "class SupportVectorModel:\n",
    "    def __init__(self) -> None:\n",
    "        self.w = None\n",
    "        self.b = None\n",
    "    \n",
    "    def _initialize(self, X) -> None:\n",
    "        # initialize the parameters\n",
    "        (N,D) = X.shape\n",
    "        self.w = np.random.rand(D,1)\n",
    "        self.b = np.random.rand()\n",
    "        pass\n",
    "\n",
    "    def fit(\n",
    "            self, X, y, \n",
    "            learning_rate: float,\n",
    "            num_iters: int,\n",
    "            C: float = 1.0,\n",
    "    ) -> None:\n",
    "        self._initialize(X)\n",
    "        \n",
    "        # fit the SVM model using stochastic gradient descent\n",
    "        for i in tqdm(range(1, num_iters + 1)):\n",
    "            #print(i)\n",
    "            # sample a random training example\n",
    "            rand_idx = np.random.choice(X.shape[0])\n",
    "            xn = X[rand_idx, :].reshape(-1,1)\n",
    "            yn = y[rand_idx]\n",
    "\n",
    "            hinge_loss = max(0,1-yn*(np.dot(np.transpose(xn),self.w)+self.b))\n",
    "            delW = np.zeros(self.w.shape)\n",
    "            delb = 0\n",
    "            if hinge_loss > 0:\n",
    "                delW = self.w + C*(-yn*xn)\n",
    "                delb = C*(-yn)\n",
    "\n",
    "            self.w = self.w - learning_rate*delW\n",
    "            self.b = self.b - learning_rate*delb \n",
    "\n",
    "        return None\n",
    "        raise NotImplementedError\n",
    "    \n",
    "    def predict(self, X) -> np.ndarray:\n",
    "        # make predictions for the given data\n",
    "        pred = X@self.w + self.b\n",
    "        pred[pred>=0] = 1\n",
    "        pred[pred<0] = -1\n",
    "        \n",
    "        return pred\n",
    "        raise NotImplementedError\n",
    "\n",
    "    def accuracy_score(self, X, y) -> float:\n",
    "        # compute the accuracy of the model (for debugging purposes)\n",
    "        return np.mean(self.predict(X) == y)"
   ]
  },
  {
   "cell_type": "code",
   "execution_count": 10,
   "id": "dc1cca3e",
   "metadata": {},
   "outputs": [
    {
     "name": "stderr",
     "output_type": "stream",
     "text": [
      "100%|██████████| 100/100 [00:00<00:00, 12190.97it/s]\n"
     ]
    }
   ],
   "source": [
    "model = SupportVectorModel()\n",
    "model.fit(X,Y,0.1,100)"
   ]
  },
  {
   "cell_type": "code",
   "execution_count": 11,
   "id": "ca324d8f",
   "metadata": {},
   "outputs": [
    {
     "data": {
      "text/plain": [
       "0.964"
      ]
     },
     "execution_count": 11,
     "metadata": {},
     "output_type": "execute_result"
    }
   ],
   "source": [
    "model.accuracy_score(X,Y)"
   ]
  },
  {
   "cell_type": "code",
   "execution_count": 12,
   "id": "936c2787",
   "metadata": {},
   "outputs": [
    {
     "data": {
      "image/png": "[encoded data removed]",
      "text/plain": [
       "<Figure size 432x288 with 1 Axes>"
      ]
     },
     "metadata": {
      "needs_background": "light"
     },
     "output_type": "display_data"
    }
   ],
   "source": [
    "n, d = X.shape\n",
    "    \n",
    "    # Obtain the minimum and maximum coordinates\n",
    "x_min = np.min(X[:, 0])\n",
    "x_max = np.max(X[:, 0])\n",
    "y_min = np.min(X[:, 1])\n",
    "y_max = np.max(X[:, 1])\n",
    "colors = ['rs', 'bs']\n",
    "for x in np.arange(x_min, x_max, 0.2).tolist():\n",
    "    for y in np.arange(y_min, y_max, 0.2).tolist():\n",
    "    \n",
    "        label = model.predict(np.asarray([[x, y]]))\n",
    "        plt.plot(x, y, colors[int((label + 1) / 2)])\n",
    "plt.show()\n"
   ]
  },
  {
   "cell_type": "code",
   "execution_count": null,
   "id": "1a4f2cda",
   "metadata": {},
   "outputs": [],
   "source": []
  },
  {
   "cell_type": "code",
   "execution_count": null,
   "id": "62d5dd85",
   "metadata": {},
   "outputs": [],
   "source": []
  },
  {
   "cell_type": "code",
   "execution_count": 13,
   "id": "85143c6d",
   "metadata": {},
   "outputs": [],
   "source": [
    "import numpy as np\n",
    "\n",
    "# Generate class 0 data\n",
    "np.random.seed(0)\n",
    "class0_data = np.random.normal(loc=[-2, 0], scale=[0.5, 0.5], size=(500, 2))\n",
    "\n",
    "# Generate class 1 data\n",
    "np.random.seed(1)\n",
    "class1_data = np.random.normal(loc=[0, 2], scale=[0.5, 0.5], size=(500, 2))\n",
    "\n",
    "# Generate class 2 data\n",
    "np.random.seed(2)\n",
    "class2_data = np.random.normal(loc=[2, 0], scale=[0.5, 0.5], size=(500, 2))\n"
   ]
  },
  {
   "cell_type": "code",
   "execution_count": 14,
   "id": "ec15a63a",
   "metadata": {},
   "outputs": [
    {
     "data": {
      "image/png": "[encoded data removed]",
      "text/plain": [
       "<Figure size 432x288 with 1 Axes>"
      ]
     },
     "metadata": {
      "needs_background": "light"
     },
     "output_type": "display_data"
    }
   ],
   "source": [
    "import matplotlib.pyplot as plt\n",
    "\n",
    "# Plot class 0 data\n",
    "plt.scatter(class0_data[:, 0], class0_data[:, 1], color='red', label='Class 0')\n",
    "\n",
    "# Plot class 1 data\n",
    "plt.scatter(class1_data[:, 0], class1_data[:, 1], color='green', label='Class 1')\n",
    "\n",
    "# Plot class 2 data\n",
    "plt.scatter(class2_data[:, 0], class2_data[:, 1], color='blue', label='Class 2')\n",
    "\n",
    "plt.xlabel('Feature 1')\n",
    "plt.ylabel('Feature 2')\n",
    "plt.legend()\n",
    "plt.show()\n"
   ]
  },
  {
   "cell_type": "code",
   "execution_count": 15,
   "id": "5f2294c1",
   "metadata": {},
   "outputs": [],
   "source": [
    "# Combine the data points into a single dataset\n",
    "data = np.vstack([class0_data, class1_data, class2_data])\n",
    "\n",
    "# Create labels for the data points\n",
    "labels = np.concatenate([np.zeros(500), np.ones(500), np.full(500, 2)])\n",
    "\n",
    "# Shuffle the data and labels\n",
    "np.random.seed(3)\n",
    "shuffle_indices = np.random.permutation(len(data))\n",
    "data = data[shuffle_indices]\n",
    "labels = labels[shuffle_indices]\n"
   ]
  },
  {
   "cell_type": "code",
   "execution_count": 16,
   "id": "23920966",
   "metadata": {},
   "outputs": [
    {
     "data": {
      "text/plain": [
       "(1500, 2)"
      ]
     },
     "execution_count": 16,
     "metadata": {},
     "output_type": "execute_result"
    }
   ],
   "source": [
    "data.shape"
   ]
  },
  {
   "cell_type": "code",
   "execution_count": 17,
   "id": "c54b73ef",
   "metadata": {},
   "outputs": [
    {
     "data": {
      "text/plain": [
       "(1500,)"
      ]
     },
     "execution_count": 17,
     "metadata": {},
     "output_type": "execute_result"
    }
   ],
   "source": [
    "labels.shape"
   ]
  },
  {
   "cell_type": "code",
   "execution_count": 29,
   "id": "9842c3b1",
   "metadata": {},
   "outputs": [],
   "source": [
    "class SupportVectorModel:\n",
    "    def __init__(self) -> None:\n",
    "        self.w = None\n",
    "        self.b = None\n",
    "    \n",
    "    def _initialize(self, X) -> None:\n",
    "        # initialize the parameters\n",
    "        (N,D) = X.shape\n",
    "        self.w = np.zeros((D,1))\n",
    "        self.b = 0.0\n",
    "        pass\n",
    "\n",
    "    def fit(\n",
    "            self, X, y, \n",
    "            learning_rate: float,\n",
    "            num_iters: int,\n",
    "            C: float = 1.0,\n",
    "    ) -> None:\n",
    "        self._initialize(X)\n",
    "\n",
    "        # fit the SVM model using stochastic gradient descent\n",
    "        for i in tqdm(range(1, num_iters + 1)):\n",
    "            # sample a random training example\n",
    "            rand_idx = np.random.choice(X.shape[0])\n",
    "            xn = X[rand_idx, :].reshape(-1,1)\n",
    "            yn = y[rand_idx]\n",
    "\n",
    "            hinge_loss = max(0,1-yn*(np.dot(np.transpose(xn),self.w)+self.b))\n",
    "            delW = self.w\n",
    "            delb = 0\n",
    "            if hinge_loss > 0:\n",
    "                delW = self.w + C*(-yn*xn)\n",
    "                delb = C*(-yn)\n",
    "\n",
    "            self.w = self.w - learning_rate*delW\n",
    "            self.b = self.b - learning_rate*delb \n",
    "\n",
    "        return None\n",
    "        raise NotImplementedError\n",
    "    \n",
    "    def predict(self, X) -> np.ndarray:\n",
    "        # make predictions for the given data\n",
    "        pred = X@self.w + self.b\n",
    "        pred[pred>=0] = 1\n",
    "        pred[pred<0] = -1\n",
    "        \n",
    "        return pred\n",
    "        raise NotImplementedError\n",
    "\n",
    "    def accuracy_score(self, X, y) -> float:\n",
    "        # compute the accuracy of the model (for debugging purposes)\n",
    "        return np.mean(self.predict(X) == y)\n",
    "    \n",
    "    def precision_score(self, X, y) -> float:\n",
    "        y_pred = self.predict(X)\n",
    "        tp = np.sum((y==1) & (y_pred==1))\n",
    "        predp = np.sum(y_pred==1)\n",
    "        #print(tp,predp)\n",
    "        eps = 1e-7\n",
    "        precision_label = tp/(predp+eps)\n",
    "        \n",
    "        return precision_label\n",
    "    \n",
    "    def recall_score(self, X, y) -> float:\n",
    "        y_pred = self.predict(X)\n",
    "        tp = np.sum((y==1) & (y_pred==1))\n",
    "        predp = np.sum(y==1)\n",
    "        eps = 1e-7\n",
    "        recall_label = tp/(predp+eps)\n",
    "        \n",
    "        return recall_label\n",
    "    \n",
    "    def f1_score(self, X, y) -> float:\n",
    "        precision = self.precision_score(X,y)\n",
    "        recall = self.recall_score(X,y)\n",
    "        eps = 1e-7\n",
    "        return 2 * (precision * recall) / (precision + recall+eps)\n",
    "\n",
    "class MultiClassSVM:\n",
    "    def __init__(self, num_classes: int) -> None:\n",
    "        self.num_classes = num_classes\n",
    "        self.models = []\n",
    "        for i in range(self.num_classes):\n",
    "            self.models.append(SupportVectorModel())\n",
    "    \n",
    "    def fit(self, X, y, **kwargs) -> None:\n",
    "        # first preprocess the data to make it suitable for the 1-vs-rest SVM model\n",
    "        # then train the 10 SVM models using the preprocessed data for each class\n",
    "\n",
    "        for label in range(self.num_classes):\n",
    "            X_train = X\n",
    "            y_train = y.copy()\n",
    "            y_train[y==label] = 1\n",
    "            y_train[y!=label] = -1\n",
    "            self.models[label].fit(X_train,y_train,kwargs['learning_rate'],kwargs['num_iters'],kwargs['C'])\n",
    "        return None\n",
    "        raise NotImplementedError\n",
    "\n",
    "    def predict(self, X) -> np.ndarray:\n",
    "        result = np.zeros((X.shape[0],self.num_classes))\n",
    "        for label in range(self.num_classes):\n",
    "             result[:,label] = np.squeeze(X@self.models[label].w + self.models[label].b)\n",
    "\n",
    "        return np.argmax(result,axis = 1).reshape(-1,1)\n",
    "        # pass the data through all the 10 SVM models and return the class with the highest score\n",
    "        raise NotImplementedError\n",
    "\n",
    "    def accuracy_score(self, X, y) -> float:\n",
    "        return np.mean(self.predict(X) == y)\n",
    "    \n",
    "    def precision_score(self, X, y) -> float:\n",
    "        y_pred = self.predict(X)\n",
    "        #print(y.shape,y_pred.shape)\n",
    "        precision = 0.0\n",
    "        eps = 1e-7\n",
    "        for label in range(self.num_classes):\n",
    "            tp = np.sum((y==label) & (y_pred==label))\n",
    "            predp = np.sum(y_pred==label)\n",
    "            precision_label = tp/(predp+eps)\n",
    "\n",
    "            precision = precision+precision_label\n",
    "\n",
    "        return precision/self.num_classes\n",
    "        raise NotImplementedError\n",
    "    \n",
    "    def recall_score(self, X, y) -> float:\n",
    "        y_pred = self.predict(X)\n",
    "        recall = 0.0\n",
    "        eps = 1e-7\n",
    "        for label in range(self.num_classes):\n",
    "            tp = np.sum((y==label) & (y_pred==label))\n",
    "            predp = np.sum(y==label)\n",
    "            recall_label = tp/(predp+eps)\n",
    "\n",
    "            recall = recall + recall_label\n",
    "\n",
    "        return recall/self.num_classes\n",
    "        \n",
    "    def f1_score(self, X, y) -> float:\n",
    "        precision = self.precision_score(X,y)\n",
    "        recall = self.recall_score(X,y)\n",
    "        eps = 1e-7\n",
    "        return 2 * (precision * recall) / (precision + recall + eps)\n",
    "        raise NotImplementedError\n"
   ]
  },
  {
   "cell_type": "code",
   "execution_count": 30,
   "id": "f3c3fedc",
   "metadata": {},
   "outputs": [],
   "source": [
    "X_train = data\n",
    "y_train = labels"
   ]
  },
  {
   "cell_type": "code",
   "execution_count": 31,
   "id": "9289a7ef",
   "metadata": {},
   "outputs": [
    {
     "name": "stderr",
     "output_type": "stream",
     "text": [
      "100%|██████████| 300/300 [00:00<00:00, 12496.68it/s]\n",
      "100%|██████████| 300/300 [00:00<00:00, 18755.55it/s]\n",
      "100%|██████████| 300/300 [00:00<00:00, 35199.91it/s]\n"
     ]
    }
   ],
   "source": [
    "svm = MultiClassSVM(num_classes=3)\n",
    "\n",
    "        # fit the model\n",
    "svm.fit(\n",
    "            X_train, y_train, C=6,\n",
    "            learning_rate=0.2,\n",
    "            num_iters=300,\n",
    "        )\n",
    "\n",
    "        # evaluate the model"
   ]
  },
  {
   "cell_type": "code",
   "execution_count": 32,
   "id": "e2c79174",
   "metadata": {},
   "outputs": [
    {
     "name": "stdout",
     "output_type": "stream",
     "text": [
      "0.9446666666666667\n",
      "0.9525443108404382\n",
      "0.9446666664777332\n",
      "0.9485890837891828\n"
     ]
    }
   ],
   "source": [
    "y_train = y_train.reshape(-1,1)\n",
    "print(svm.accuracy_score(X_train, y_train))\n",
    "print(svm.precision_score(X_train,y_train))\n",
    "print(svm.recall_score(X_train,y_train))\n",
    "print(svm.f1_score(X_train,y_train))"
   ]
  },
  {
   "cell_type": "code",
   "execution_count": 33,
   "id": "b35c72e1",
   "metadata": {},
   "outputs": [
    {
     "data": {
      "image/png": "[encoded data removed]",
      "text/plain": [
       "<Figure size 432x288 with 1 Axes>"
      ]
     },
     "metadata": {
      "needs_background": "light"
     },
     "output_type": "display_data"
    }
   ],
   "source": [
    "n, d = X_train.shape\n",
    "    \n",
    "    # Obtain the minimum and maximum coordinates\n",
    "x_min = np.min(X[:, 0])\n",
    "x_max = np.max(X[:, 0])\n",
    "y_min = np.min(X[:, 1])\n",
    "y_max = np.max(X[:, 1])\n",
    "colors = ['red', 'green', 'blue', 'c', 'm', 'y', 'k', 'w', '#FFA500', '#800080']\n",
    "for x in np.arange(x_min, x_max, 0.2).tolist():\n",
    "    for y in np.arange(y_min, y_max, 0.2).tolist():\n",
    "        label = svm.predict(np.asarray([[x, y]]))\n",
    "        plt.plot([x], [y], colors[int(label)], marker = 's')\n",
    "plt.show()\n"
   ]
  },
  {
   "cell_type": "code",
   "execution_count": null,
   "id": "03e2b2c6",
   "metadata": {},
   "outputs": [],
   "source": []
  },
  {
   "cell_type": "code",
   "execution_count": null,
   "id": "2a328ba9",
   "metadata": {},
   "outputs": [],
   "source": []
  },
  {
   "cell_type": "code",
   "execution_count": 4,
   "id": "aca2098a",
   "metadata": {},
   "outputs": [],
   "source": [
    "train_df = pd.read_csv('data/mnist_train.csv')\n",
    "test_df = pd.read_csv('data/mnist_test.csv')\n",
    "\n",
    "X_train = train_df.drop('label', axis=1).values\n",
    "y_train = train_df['label'].values\n",
    "\n",
    "X_test = test_df.drop('label', axis=1).values\n",
    "y_test = test_df['label'].values\n"
   ]
  },
  {
   "cell_type": "code",
   "execution_count": 5,
   "id": "b0a991c7",
   "metadata": {},
   "outputs": [],
   "source": [
    "def normalize(X_train, X_test) -> Tuple[np.ndarray, np.ndarray]:\n",
    "    # normalize the data\n",
    "\n",
    "    X_train_min = np.min(X_train, axis = 0)\n",
    "    X_train_max = np.max(X_train, axis = 0)\n",
    "    den = X_train_max - X_train_min\n",
    "    den[den==0] = 1\n",
    "    X_train_norm = 2*((X_train-X_train_min)/den)-1\n",
    "\n",
    "    X_test_min = np.min(X_test, axis = 0)\n",
    "    X_test_max = np.max(X_test, axis = 0)\n",
    "    den = X_test_max - X_test_min\n",
    "    den[den==0] = 1\n",
    "    X_test_norm = 2*((X_test-X_test_min)/den)-1\n",
    "\n",
    "    return (X_train_norm,X_test_norm)\n",
    "X_train,X_test = normalize(X_train,X_test)"
   ]
  },
  {
   "cell_type": "code",
   "execution_count": 8,
   "id": "4536c3a6",
   "metadata": {},
   "outputs": [],
   "source": [
    "class PCA:\n",
    "    def __init__(self, n_components: int) -> None:\n",
    "        self.n_components = n_components\n",
    "        self.components = None\n",
    "    \n",
    "    def fit(self, X) -> None:\n",
    "        # fit the PCA model\n",
    "        S = np.cov(X, rowvar=False)\n",
    "        #unique, counts = np.unique(S, return_counts=True)\n",
    "\n",
    "        #print(np.asarray((unique, counts)).T)\n",
    "        eigenValues, eigenVectors = np.linalg.eig(S)\n",
    "        idx = eigenValues.argsort()[::-1] # eigenValues in decreasing order\n",
    "        eigenValues = eigenValues[idx]\n",
    "        eigenVectors = eigenVectors[:,idx]\n",
    "\n",
    "        # Largest n_components eigen values\n",
    "        self.components = eigenVectors[:,0:self.n_components]\n",
    "\n",
    "        return None\n",
    "        raise NotImplementedError\n",
    "    \n",
    "    def transform(self, X) -> np.ndarray:\n",
    "        # transform the data\n",
    "        \n",
    "        X_transform = X @ self.components\n",
    "        S = np.cov(X_transform, rowvar=False)\n",
    "        eigenValues, eigenVectors = np.linalg.eig(S)\n",
    "        print(S)\n",
    "        print(eigenValues)\n",
    "        return X @ self.components\n",
    "        raise NotImplementedError\n",
    "\n",
    "    def fit_transform(self, X) -> np.ndarray:\n",
    "        # fit the model and transform the data\n",
    "        self.fit(X)\n",
    "        return self.transform(X)\n",
    "\n"
   ]
  },
  {
   "cell_type": "code",
   "execution_count": 9,
   "id": "5d87c10e",
   "metadata": {},
   "outputs": [
    {
     "name": "stdout",
     "output_type": "stream",
     "text": [
      "[[2.04674923e+01 9.42669074e-17]\n",
      " [9.42669074e-17 1.49655638e+01]]\n",
      "[20.46749228 14.96556378]\n",
      "[[21.10596246  0.20817486]\n",
      " [ 0.20817486 15.87876285]]\n",
      "[21.11423998 15.87048533]\n"
     ]
    }
   ],
   "source": [
    "pca = PCA(n_components=2)\n",
    "X_train = pca.fit_transform(X_train)\n",
    "X_test = pca.transform(X_test)"
   ]
  },
  {
   "cell_type": "code",
   "execution_count": 168,
   "id": "f0213ff1",
   "metadata": {},
   "outputs": [
    {
     "data": {
      "image/png": "[encoded data removed]",
      "text/plain": [
       "<Figure size 432x288 with 1 Axes>"
      ]
     },
     "metadata": {
      "needs_background": "light"
     },
     "output_type": "display_data"
    }
   ],
   "source": [
    "colors = ['red', 'green', 'blue', 'cyan', 'magenta', 'yellow', 'black', 'gray', 'purple', 'pink']\n",
    "for i in range(60000):\n",
    "    #print(X_train[i,0],X_train[i,1],str(colors[int(y_train[i])]))\n",
    "    plt.plot(X_train[i, 0], X_train[i, 1], 'o',color = colors[int(y_train[i])])"
   ]
  },
  {
   "cell_type": "code",
   "execution_count": null,
   "id": "3146fa51",
   "metadata": {},
   "outputs": [],
   "source": []
  },
  {
   "cell_type": "code",
   "execution_count": null,
   "id": "4912ee43",
   "metadata": {},
   "outputs": [],
   "source": []
  },
  {
   "cell_type": "code",
   "execution_count": 76,
   "id": "ab7cd53a",
   "metadata": {},
   "outputs": [],
   "source": [
    "from sklearn.svm import SVC\n",
    "model = SVC(C=1, kernel=\"linear\")\n",
    "\n",
    "model.fit(X_train, y_train)\n",
    "y_pred = model.predict(X_test)\n",
    "\n"
   ]
  },
  {
   "cell_type": "code",
   "execution_count": 77,
   "id": "d2579619",
   "metadata": {},
   "outputs": [
    {
     "name": "stdout",
     "output_type": "stream",
     "text": [
      "accuracy 0.4507 \n",
      "\n"
     ]
    }
   ],
   "source": [
    "from sklearn import metrics\n",
    "# metrics\n",
    "print(\"accuracy\", metrics.accuracy_score(y_test, y_pred), \"\\n\")"
   ]
  },
  {
   "cell_type": "code",
   "execution_count": 134,
   "id": "d54b84b2",
   "metadata": {},
   "outputs": [
    {
     "data": {
      "image/png": "[encoded data removed]",
      "text/plain": [
       "<Figure size 432x288 with 1 Axes>"
      ]
     },
     "metadata": {
      "needs_background": "light"
     },
     "output_type": "display_data"
    }
   ],
   "source": [
    "n, d = X_train.shape\n",
    "    \n",
    "    # Obtain the minimum and maximum coordinates\n",
    "x_min = np.min(X_train[:, 0])\n",
    "x_max = np.max(X_train[:, 0])\n",
    "y_min = np.min(X_train[:, 1])\n",
    "y_max = np.max(X_train[:, 1])\n",
    "#colors = ['rs', 'bs', 'ys']\n",
    "colors = ['red', 'green', 'blue', 'cyan', 'magenta', 'yellow', 'black', 'gray', 'purple', 'pink']\n",
    "for x in np.arange(x_min, x_max, 0.2).tolist():\n",
    "    for y in np.arange(y_min, y_max, 0.2).tolist():\n",
    "        label = model.predict(np.asarray([[x, y]]))\n",
    "        plt.plot(x, y, colors[int(label)],marker = 's')\n",
    "plt.show()\n"
   ]
  },
  {
   "cell_type": "code",
   "execution_count": null,
   "id": "d6fa1f40",
   "metadata": {},
   "outputs": [],
   "source": []
  },
  {
   "cell_type": "code",
   "execution_count": null,
   "id": "8881e909",
   "metadata": {},
   "outputs": [],
   "source": []
  },
  {
   "cell_type": "code",
   "execution_count": 58,
   "id": "6184efe0",
   "metadata": {},
   "outputs": [
    {
     "name": "stderr",
     "output_type": "stream",
     "text": [
      "100%|██████████| 100000/100000 [00:04<00:00, 24272.10it/s]\n",
      "100%|██████████| 100000/100000 [00:04<00:00, 21062.33it/s]\n",
      "100%|██████████| 100000/100000 [00:04<00:00, 21197.09it/s]\n",
      "100%|██████████| 100000/100000 [00:04<00:00, 22851.06it/s]\n",
      "100%|██████████| 100000/100000 [00:04<00:00, 24089.69it/s]\n",
      "100%|██████████| 100000/100000 [00:04<00:00, 23713.50it/s]\n",
      "100%|██████████| 100000/100000 [00:04<00:00, 22639.91it/s]\n",
      "100%|██████████| 100000/100000 [00:03<00:00, 25285.63it/s]\n",
      "100%|██████████| 100000/100000 [00:04<00:00, 24501.67it/s]\n",
      "100%|██████████| 100000/100000 [00:03<00:00, 25173.15it/s]\n"
     ]
    }
   ],
   "source": [
    "svm = MultiClassSVM(num_classes=10)\n",
    "\n",
    "        # fit the model\n",
    "svm.fit(\n",
    "            X_train, y_train.reshape(-1,1), C=5,\n",
    "            learning_rate=0.0001,\n",
    "            num_iters=100000,\n",
    "        )"
   ]
  },
  {
   "cell_type": "code",
   "execution_count": 510,
   "id": "5601af7b",
   "metadata": {},
   "outputs": [
    {
     "data": {
      "text/plain": [
       "(60000, 1)"
      ]
     },
     "execution_count": 510,
     "metadata": {},
     "output_type": "execute_result"
    }
   ],
   "source": [
    "svm.predict(X_train).shape"
   ]
  },
  {
   "cell_type": "code",
   "execution_count": 59,
   "id": "9f92b9dd",
   "metadata": {},
   "outputs": [
    {
     "name": "stdout",
     "output_type": "stream",
     "text": [
      "0.33713333333333334\n",
      "0.26248746941769163\n",
      "0.33388430658143947\n",
      "0.293912071443726\n"
     ]
    }
   ],
   "source": [
    "y_train = y_train.reshape(-1,1)\n",
    "print(svm.accuracy_score(X_train, y_train))\n",
    "print(svm.precision_score(X_train,y_train))\n",
    "print(svm.recall_score(X_train,y_train))\n",
    "print(svm.f1_score(X_train,y_train))"
   ]
  },
  {
   "cell_type": "code",
   "execution_count": 60,
   "id": "e9f9de6a",
   "metadata": {},
   "outputs": [
    {
     "data": {
      "image/png": "[encoded data removed]",
      "text/plain": [
       "<Figure size 432x288 with 1 Axes>"
      ]
     },
     "metadata": {
      "needs_background": "light"
     },
     "output_type": "display_data"
    }
   ],
   "source": [
    "n, d = X_train.shape\n",
    "    \n",
    "    # Obtain the minimum and maximum coordinates\n",
    "x_min = np.min(X_train[:, 0])\n",
    "x_max = np.max(X_train[:, 0])\n",
    "y_min = np.min(X_train[:, 1])\n",
    "y_max = np.max(X_train[:, 1])\n",
    "#colors = ['rs', 'bs', 'ys']\n",
    "colors = ['red', 'green', 'blue', 'cyan', 'magenta', 'yellow', 'black', 'gray', 'purple', 'pink']\n",
    "for x in np.arange(x_min, x_max, 0.2).tolist():\n",
    "    for y in np.arange(y_min, y_max, 0.2).tolist():\n",
    "        label = svm.predict(np.asarray([[x, y]]))\n",
    "        plt.plot(x, y, colors[int(label)],marker = 's')\n",
    "plt.show()\n"
   ]
  },
  {
   "cell_type": "code",
   "execution_count": null,
   "id": "47ed2e06",
   "metadata": {},
   "outputs": [],
   "source": []
  },
  {
   "cell_type": "code",
   "execution_count": 124,
   "id": "f485e3ef",
   "metadata": {},
   "outputs": [
    {
     "name": "stderr",
     "output_type": "stream",
     "text": [
      "100%|██████████| 10000/10000 [00:00<00:00, 32997.90it/s]\n"
     ]
    }
   ],
   "source": [
    "y_train = y_train.reshape(-1,1)\n",
    "label = 0\n",
    "y = y_train.copy()\n",
    "y[y_train==label] = 1\n",
    "y[y_train!=label] = -1\n",
    "model = SupportVectorModel()\n",
    "model.fit(X_train,y,0.1,10000,5)"
   ]
  },
  {
   "cell_type": "code",
   "execution_count": 125,
   "id": "5fb1121c",
   "metadata": {},
   "outputs": [
    {
     "name": "stdout",
     "output_type": "stream",
     "text": [
      "0.9137833333333333\n",
      "0.5827084252187317\n",
      "0.44605774100209256\n",
      "0.5053074004278483\n"
     ]
    }
   ],
   "source": [
    "print(model.accuracy_score(X_train,y))\n",
    "print(model.precision_score(X_train,y))\n",
    "print(model.recall_score(X_train,y))\n",
    "print(model.f1_score(X_train,y))"
   ]
  },
  {
   "cell_type": "code",
   "execution_count": 89,
   "id": "27b65b31",
   "metadata": {},
   "outputs": [
    {
     "name": "stdout",
     "output_type": "stream",
     "text": [
      "[[   -1 54077]\n",
      " [    1  5923]]\n"
     ]
    }
   ],
   "source": [
    "unique, counts = np.unique(y, return_counts=True)\n",
    "\n",
    "print(np.asarray((unique, counts)).T)"
   ]
  },
  {
   "cell_type": "code",
   "execution_count": 90,
   "id": "61ad6630",
   "metadata": {},
   "outputs": [
    {
     "data": {
      "image/png": "[encoded data removed]",
      "text/plain": [
       "<Figure size 432x288 with 1 Axes>"
      ]
     },
     "metadata": {
      "needs_background": "light"
     },
     "output_type": "display_data"
    }
   ],
   "source": [
    "colors = ['black', 'pink']\n",
    "for i in range(10000):\n",
    "    #print(X_train[i,0],X_train[i,1],str(colors[int(y_train[i])]))\n",
    "    plt.plot(X_train[i, 0], X_train[i, 1], 'o',color = colors[int((y[i]+1)/2)])"
   ]
  },
  {
   "cell_type": "code",
   "execution_count": 101,
   "id": "278b7c87",
   "metadata": {},
   "outputs": [
    {
     "data": {
      "image/png": "[encoded data removed]",
      "text/plain": [
       "<Figure size 432x288 with 1 Axes>"
      ]
     },
     "metadata": {
      "needs_background": "light"
     },
     "output_type": "display_data"
    }
   ],
   "source": [
    "n, d = X_train.shape\n",
    "    \n",
    "    # Obtain the minimum and maximum coordinates\n",
    "x_min = np.min(X_train[:, 0])\n",
    "x_max = np.max(X_train[:, 0])\n",
    "y_min = np.min(X_train[:, 1])\n",
    "y_max = np.max(X_train[:, 1])\n",
    "#colors = ['rs', 'bs', 'ys']\n",
    "colors = ['red', 'green', 'blue', 'cyan', 'magenta', 'yellow', 'black', 'gray', 'purple', 'pink']\n",
    "for x in np.arange(x_min, x_max, 0.6).tolist():\n",
    "    for yy in np.arange(y_min, y_max, 0.6).tolist():\n",
    "        pred = model.predict(np.asarray([[x, yy]]))\n",
    "        color = 'black'\n",
    "        if pred == 1:\n",
    "            color = colors[label]\n",
    "        plt.plot(x, yy, color = color,marker = 's')\n",
    "plt.show()\n"
   ]
  },
  {
   "cell_type": "code",
   "execution_count": 123,
   "id": "c9f6e6ea",
   "metadata": {},
   "outputs": [
    {
     "data": {
      "text/plain": [
       "(-10.0, 15.0)"
      ]
     },
     "execution_count": 123,
     "metadata": {},
     "output_type": "execute_result"
    },
    {
     "data": {
      "image/png": "[encoded data removed]",
      "text/plain": [
       "<Figure size 432x288 with 1 Axes>"
      ]
     },
     "metadata": {
      "needs_background": "light"
     },
     "output_type": "display_data"
    }
   ],
   "source": [
    "# C = 0.5\n",
    "\n",
    "colors = ['black', 'pink']\n",
    "for i in range(10000):\n",
    "    #print(X_train[i,0],X_train[i,1],str(colors[int(y_train[i])]))\n",
    "    plt.plot(X_train[i, 0], X_train[i, 1], 'o',color = colors[int((y[i]+1)/2)])\n",
    "w = model.w\n",
    "w1 = w[0]\n",
    "w2 = w[1]\n",
    "b = model.b\n",
    "\n",
    "X = np.arange(-10,10)\n",
    "plt.plot(X,(-b-w1*X)/w2,color = 'r') # wTx+b = 0\n",
    "plt.plot(X,(1-b-w1*X)/w2,color = 'g') # wTx+b = 1\n",
    "plt.plot(X,(-1-b-w1*X)/w2,color = 'b') # wTx+b = 2\n",
    "plt.xlim((-10,15))\n",
    "plt.ylim((-10,15))"
   ]
  },
  {
   "cell_type": "code",
   "execution_count": 126,
   "id": "c663fd77",
   "metadata": {},
   "outputs": [
    {
     "data": {
      "text/plain": [
       "(-10.0, 15.0)"
      ]
     },
     "execution_count": 126,
     "metadata": {},
     "output_type": "execute_result"
    },
    {
     "data": {
      "image/png": "[encoded data removed]",
      "text/plain": [
       "<Figure size 432x288 with 1 Axes>"
      ]
     },
     "metadata": {
      "needs_background": "light"
     },
     "output_type": "display_data"
    }
   ],
   "source": [
    "# C = 10\n",
    "\n",
    "colors = ['black', 'pink']\n",
    "for i in range(10000):\n",
    "    #print(X_train[i,0],X_train[i,1],str(colors[int(y_train[i])]))\n",
    "    plt.plot(X_train[i, 0], X_train[i, 1], 'o',color = colors[int((y[i]+1)/2)])\n",
    "w = model.w\n",
    "w1 = w[0]\n",
    "w2 = w[1]\n",
    "b = model.b\n",
    "\n",
    "X = np.arange(-10,10)\n",
    "plt.plot(X,(-b-w1*X)/w2,color = 'r')\n",
    "plt.plot(X,(1-b-w1*X)/w2,color = 'g')\n",
    "plt.plot(X,(-1-b-w1*X)/w2,color = 'b')\n",
    "plt.xlim((-10,15))\n",
    "plt.ylim((-10,15))"
   ]
  },
  {
   "cell_type": "code",
   "execution_count": null,
   "id": "14e42306",
   "metadata": {},
   "outputs": [],
   "source": []
  },
  {
   "cell_type": "code",
   "execution_count": null,
   "id": "9ca5f514",
   "metadata": {},
   "outputs": [],
   "source": []
  },
  {
   "cell_type": "code",
   "execution_count": null,
   "id": "7255ee4a",
   "metadata": {},
   "outputs": [],
   "source": []
  }
 ],
 "metadata": {
  "kernelspec": {
   "display_name": "Python 3 (ipykernel)",
   "language": "python",
   "name": "python3"
  },
  "language_info": {
   "codemirror_mode": {
    "name": "ipython",
    "version": 3
   },
   "file_extension": ".py",
   "mimetype": "text/x-python",
   "name": "python",
   "nbconvert_exporter": "python",
   "pygments_lexer": "ipython3",
   "version": "3.10.5"
  }
 },
 "nbformat": 4,
 "nbformat_minor": 5
}
